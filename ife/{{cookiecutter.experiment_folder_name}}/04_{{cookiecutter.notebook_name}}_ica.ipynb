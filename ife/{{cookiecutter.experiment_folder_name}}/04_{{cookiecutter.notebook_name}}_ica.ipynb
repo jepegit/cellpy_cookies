{
 "cells": [
  {
   "cell_type": "markdown",
   "metadata": {},
   "source": [
    "# Processing cellpy batch - ica"
   ]
  },
  {
   "cell_type": "markdown",
   "metadata": {},
   "source": [
    "### `{{cookiecutter.project_name}}::{{cookiecutter.session_id}}`"
   ]
  },
  {
   "cell_type": "markdown",
   "metadata": {
    "toc-hr-collapsed": true,
    "toc-nb-collapsed": true
   },
   "source": [
    "**Experimental-id:** `{{cookiecutter.notebook_name}}`  \n",
    "**Short-name:** `{{cookiecutter.session_id}}`  \n",
    "**Project:** `{{cookiecutter.project_name}}`  \n",
    "**By:** `{{cookiecutter.author_name}}`   \n",
    "**Date:** `{{cookiecutter.date}}`  "
   ]
  },
  {
   "cell_type": "markdown",
   "metadata": {},
   "source": [
    "## Imports and setup"
   ]
  },
  {
   "cell_type": "code",
   "execution_count": null,
   "metadata": {},
   "outputs": [],
   "source": [
    "import matplotlib.pyplot as plt\n",
    "import panel as pn\n",
    "import holoviews as hv\n",
    "\n",
    "import cellpy\n",
    "from cellpy.utils import batch, helpers, plotutils, collectors"
   ]
  },
  {
   "cell_type": "code",
   "execution_count": null,
   "metadata": {},
   "outputs": [],
   "source": [
    "%matplotlib inline\n",
    "batch.pd.set_option('display.max_columns', 70)\n",
    "print(f\"cellpy version: {cellpy.__version__}\")"
   ]
  },
  {
   "cell_type": "code",
   "execution_count": null,
   "metadata": {},
   "outputs": [],
   "source": [
    "cellpy_batch_file = \"cellpy_batch_{{cookiecutter.session_id}}.json\""
   ]
  },
  {
   "cell_type": "code",
   "execution_count": null,
   "metadata": {},
   "outputs": [],
   "source": [
    "b = batch.from_journal(cellpy_batch_file)\n",
    "b.link()\n",
    "print(f\"cell names:\")\n",
    "b.cell_names"
   ]
  },
  {
   "cell_type": "code",
   "execution_count": null,
   "metadata": {},
   "outputs": [],
   "source": [
    "# # Remove bad cycles (if you have saved it to the journal session)\n",
    "# helpers.yank_outliers(b, remove_indexes=b.journal.session[\"bad_cycles\"])"
   ]
  },
  {
   "cell_type": "code",
   "execution_count": null,
   "metadata": {},
   "outputs": [],
   "source": [
    "# # It is usually nice to see the capacity plot in the same notebook.\n",
    "# b.plot_summary()"
   ]
  },
  {
   "cell_type": "markdown",
   "metadata": {
    "tags": []
   },
   "source": [
    "## Tweaking dQ/dV parameters"
   ]
  },
  {
   "cell_type": "markdown",
   "metadata": {},
   "source": [
    "### App for tweaking the parameters"
   ]
  },
  {
   "cell_type": "code",
   "execution_count": null,
   "metadata": {},
   "outputs": [],
   "source": [
    "XMIN = 1\n",
    "XMAX = 5\n",
    "\n",
    "pn.extension()\n",
    "pn.config.console_output = \"disable\"\n",
    "\n",
    "b = batch.from_journal(cellpy_batch_file)\n",
    "b.link()\n",
    "\n",
    "x_range = pn.widgets.RangeSlider(name=\"x_range\", start=XMIN, end=XMAX, step=0.1)\n",
    "\n",
    "# voltage step size:\n",
    "voltage_res = pn.widgets.FloatInput(name=\"voltage_res\", value=0.001, start=0.0001, end=0.1, step=0.0001, page_step_multiplier=100)\n",
    "\n",
    "# resolution in the capacity (only valid if max_points is None (<1)):\n",
    "capacity_resolution = pn.widgets.FloatInput(name=\"capacity_resolution\", value=0.0001, start=0.0001, end=10, step=0.0001, page_step_multiplier=1000)\n",
    "\n",
    "# max number of points for capacity (along dQ-axis):\n",
    "max_points = pn.widgets.FloatInput(name=\"max_points\", value=1000, start=0, end=10_000, step=10, page_step_multiplier=100)\n",
    "\n",
    "# voltage resolution used for final gaussian smoothing:\n",
    "voltage_fwhm = pn.widgets.FloatInput(name=\"voltage_fwhm\", value=0.001, start=0.00001, end=0.1, step=0.0001, page_step_multiplier=100)\n",
    "\n",
    "\n",
    "cycle_number = pn.widgets.IntSlider(name=\"cycle_number\", value=1, start=1, end=2)\n",
    "cell_name = pn.widgets.Select(name=\"cell_name\", options=b.cell_names)\n",
    "\n",
    "\n",
    "def cell(name):\n",
    "    return b.cells[name]\n",
    "\n",
    "\n",
    "def dqdv_plot(voltage, incremental, label=\"one\", xrange=(XMIN, XMAX)):\n",
    "    s1 = hv.Scatter((voltage, incremental), label=label).opts(width=800, height=600, xlabel=\"Voltage\", ylabel=\"dqdv\", xlim=xrange)\n",
    "    s2 = hv.Curve((voltage, incremental), label=label).opts(width=800, xlabel=\"Voltage\", ylabel=\"dqdv\", xlim=xrange)\n",
    "    return s1 * s2\n",
    "\n",
    "def tweak_dqdv_prms(cell_name, v_res=0.01, n=2, view_fn=dqdv_plot, increment_method=\"diff\", capacity_resolution=None, voltage_fwhm=None, max_points=None, xrange=(XMIN, XMAX)):\n",
    "    cell_data = b.cells[cell_name]\n",
    "    _cycles = cell_data.get_cycle_numbers()\n",
    "    c_min = int(_cycles.min())\n",
    "    c_max = int(_cycles.max())\n",
    "    cycle_number.start = c_min\n",
    "    cycle_number.end = c_max\n",
    "    if cycle_number.end > c_max:\n",
    "        cycle_number.value = c_max\n",
    "    if max_points < 1:\n",
    "        max_points = None\n",
    "    cycle = cell_data.get_cap(cycle=n, categorical_column=True, method=\"forth-and-forth\", insert_nan=False)\n",
    "    if not cycle.empty:\n",
    "        v, dq = ica.dqdv_cycle(cycle, voltage_resolution=v_res, increment_method=increment_method, voltage_fwhm=voltage_fwhm, capacity_resolution=capacity_resolution, max_points=max_points)\n",
    "        return view_fn(v, dq, label=f\"no: {n}/{c_max} - res: {v_res}\", xrange=xrange)\n",
    "    else:\n",
    "        return \"no data\"\n",
    "\n",
    "\n",
    "interactive = pn.bind(tweak_dqdv_prms, cell_name=cell_name, v_res=voltage_res, n=cycle_number, capacity_resolution=capacity_resolution, voltage_fwhm=voltage_fwhm, max_points=max_points, xrange=x_range)\n",
    "app = pn.Row(\n",
    "        pn.Column(\n",
    "            cell_name,\n",
    "            x_range,\n",
    "            cycle_number, \n",
    "            voltage_res,\n",
    "            capacity_resolution,\n",
    "            max_points,\n",
    "            voltage_fwhm,\n",
    "        ),\n",
    "        interactive\n",
    ")\n",
    "app"
   ]
  },
  {
   "cell_type": "markdown",
   "metadata": {},
   "source": [
    "## Plotting"
   ]
  },
  {
   "cell_type": "markdown",
   "metadata": {},
   "source": [
    "### By cycles"
   ]
  },
  {
   "cell_type": "code",
   "execution_count": null,
   "metadata": {},
   "outputs": [],
   "source": [
    "cycles_collected = collectors.BatchICACollector(b, plot_type=\"fig_pr_cycle\", plotter_arguments={\"cycles\": [1,2,3], \"palette\":\"Category20\"})"
   ]
  },
  {
   "cell_type": "code",
   "execution_count": null,
   "metadata": {},
   "outputs": [],
   "source": [
    "cycles_collected.show()"
   ]
  },
  {
   "cell_type": "code",
   "execution_count": null,
   "metadata": {},
   "outputs": [],
   "source": [
    "cycles_collected.save()"
   ]
  },
  {
   "cell_type": "code",
   "execution_count": null,
   "metadata": {},
   "outputs": [],
   "source": []
  },
  {
   "cell_type": "markdown",
   "metadata": {},
   "source": [
    "### By cells"
   ]
  },
  {
   "cell_type": "code",
   "execution_count": null,
   "metadata": {},
   "outputs": [],
   "source": [
    "cells_collected = collectors.BatchICACollector(b)"
   ]
  },
  {
   "cell_type": "code",
   "execution_count": null,
   "metadata": {},
   "outputs": [],
   "source": [
    "cells_collected.show()"
   ]
  },
  {
   "cell_type": "code",
   "execution_count": null,
   "metadata": {},
   "outputs": [],
   "source": [
    "cells_collected.save()"
   ]
  },
  {
   "cell_type": "code",
   "execution_count": null,
   "metadata": {},
   "outputs": [],
   "source": [
    "cells_collected.redraw((hv.opts.Curve(xlim=(0,2), xlabel=\"Voltage (V)\", ylabel=\"dQ/dV (arb. units)\"), hv.opts.NdLayout(title=\"All the plots\")), extension=\"matplotlib\")"
   ]
  },
  {
   "cell_type": "markdown",
   "metadata": {},
   "source": [
    "## Links"
   ]
  },
  {
   "cell_type": "markdown",
   "metadata": {},
   "source": [
    "### Notebooks\n",
    "- notes and information [link](00_{{cookiecutter.notebook_name}}_notes.ipynb)\n",
    "- processing raw data [link](01_{{cookiecutter.notebook_name}}_loader.ipynb)\n",
    "- life [link](02_{{cookiecutter.notebook_name}}_life.ipynb)\n",
    "- cycles [link](03_{{cookiecutter.notebook_name}}_cycles.ipynb)\n",
    "- ica [link](04_{{cookiecutter.notebook_name}}_ica.ipynb)\n",
    "- plots [link](05_{{cookiecutter.notebook_name}}_plots.ipynb)"
   ]
  }
 ],
 "metadata": {
  "kernelspec": {
   "display_name": "cellpy",
   "language": "python",
   "name": "cellpy"
  },
  "language_info": {
   "codemirror_mode": {
    "name": "ipython",
    "version": 3
   },
   "file_extension": ".py",
   "mimetype": "text/x-python",
   "name": "python",
   "nbconvert_exporter": "python",
   "pygments_lexer": "ipython3",
   "version": "3.10.6"
  }
 },
 "nbformat": 4,
 "nbformat_minor": 4
}
