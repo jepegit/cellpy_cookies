{
 "cells": [
  {
   "cell_type": "markdown",
   "metadata": {},
   "source": [
    "# Notes\n"
   ]
  },
  {
   "cell_type": "markdown",
   "metadata": {},
   "source": [
    "Cookie: standard\n"
   ]
  },
  {
   "cell_type": "markdown",
   "metadata": {},
   "source": [
    "### `{{cookiecutter.project_name}}::{{cookiecutter.session_id}}`\n"
   ]
  },
  {
   "cell_type": "markdown",
   "metadata": {},
   "source": [
    "## 1. Usage\n"
   ]
  },
  {
   "cell_type": "markdown",
   "metadata": {},
   "source": [
    "### 1.1. Jupyter\n"
   ]
  },
  {
   "cell_type": "markdown",
   "metadata": {},
   "source": [
    "_You can fill inn the MarkDown cells (the cells without \"numbering\") by double-clicking them. Also remember, press `shift + enter` to execute a cell._\n",
    "\n",
    "A couple of useful links:\n",
    "\n",
    "- [How to write MarkDown](https://github.com/adam-p/markdown-here/wiki/Markdown-Cheatsheet#hr)\n",
    "- [Jupyter notebooks](https://jupyter.org/)\n",
    "- [cellpy](https://cellpy.readthedocs.io/en/latest/)\n"
   ]
  },
  {
   "cell_type": "markdown",
   "metadata": {},
   "source": [
    "### 1.2. The `cellpy` notebooks\n"
   ]
  },
  {
   "cell_type": "markdown",
   "metadata": {},
   "source": [
    "This set of notebooks is intended to give you a structure for performing a proper `cellpy` analysis of your data utilising the `cellpy.utils.bathc` tool.\n",
    "\n",
    "An example of a project structure can be this:\n",
    "\n",
    "```bash\n",
    "\n",
    "cellpy_project/\n",
    "└── experiment_001\n",
    "    ├── batch_file.json\n",
    "    ├── data\n",
    "    │   ├── external\n",
    "    │   ├── interim\n",
    "    │   ├── processed\n",
    "    │   └── raw\n",
    "    ├── out\n",
    "    │   └── note.md\n",
    "    ├── notebook: 00_experiment_001_notes.ipynb\n",
    "    ├── notebook: 01_experiment_001_loader.ipynb\n",
    "    ├── notebook: 02_experiment_001_life.ipynb\n",
    "    ├── notebook: 03_experiment_001_cycles.ipynb\n",
    "    ├── notebook: 04_experiment_001_ica.ipynb\n",
    "    └── notebook: 05_experiment_001_plots.ipynb\n",
    "\n",
    "```\n",
    "\n",
    "The `00_experiment_001_notes.ipynb` notebook can be used for writing a log, as well as giving you some information on how to do stuff.\n",
    "\n",
    "The `01_experiment_001_loader.ipynb` notebook is the one you use to load the data from the tester(s) and create cellpy-files. You should run this first. There are several options on how to store the cellpy-files and the journal, so chose the option that suits you best. You only have to re-run this notebook if your data needs to be updated.\n",
    "\n",
    "The next three notebooks use the cellpy-files produced by `01_experiment_001_loader.ipynb`. Try to keep them \"understandable\" and well structured so that the future you dont get totally lost trying to re-run them.\n",
    "\n",
    "The last notebook is ment to contain important plots that you would like to be able to use later on. They should preferably be \"stand-alone\" and not rely on running the other notebooks (as a helpful gesture to the future you).\n"
   ]
  },
  {
   "cell_type": "markdown",
   "metadata": {},
   "source": [
    "## 2. Key information about the current experiment\n"
   ]
  },
  {
   "cell_type": "markdown",
   "metadata": {
    "toc-hr-collapsed": true,
    "toc-nb-collapsed": true
   },
   "source": [
    "**Experimental-id:** `{{cookiecutter.notebook_name}}`  \n",
    "**Short-name:** `{{cookiecutter.session_id}}`  \n",
    "**Project:** `{{cookiecutter.project_name}}`  \n",
    "**By:** `{{cookiecutter.author_name}}`  \n",
    "**Date:** `{{cookiecutter.date}}`\n"
   ]
  },
  {
   "cell_type": "markdown",
   "metadata": {},
   "source": [
    "### Notebooks\n",
    "\n",
    "- notes and information [link](00_{{cookiecutter.notebook_name}}_notes.ipynb)\n",
    "- processing raw data [link](01_{{cookiecutter.notebook_name}}_loader.ipynb)\n",
    "- life [link](02_{{cookiecutter.notebook_name}}_life.ipynb)\n",
    "- cycles [link](03_{{cookiecutter.notebook_name}}_cycles.ipynb)\n",
    "- ica [link](04_{{cookiecutter.notebook_name}}_ica.ipynb)\n",
    "- plots [link](05_{{cookiecutter.notebook_name}}_plots.ipynb)\n"
   ]
  },
  {
   "cell_type": "markdown",
   "metadata": {},
   "source": [
    "## 3. Short summary of the experiment before processing\n",
    "\n",
    "It is often helpful to formulate what you wanted to achieve with your experiment before actually going into depth of the data. I believe that it does not make you \"biased\" when processing your data, but instead sharpens your mind and motivates you to look more closely on your results. I might be wrong, off course. Then just skip filling in this part.\n"
   ]
  },
  {
   "cell_type": "markdown",
   "metadata": {},
   "source": [
    "### Main purpose\n",
    "\n",
    "(_State the main hypothesis for the current set of experiment_)\n"
   ]
  },
  {
   "cell_type": "markdown",
   "metadata": {},
   "source": [
    "### Expected outcome\n",
    "\n",
    "(_What do you expect to find out? What kind of tests did you perform?_)\n"
   ]
  },
  {
   "cell_type": "markdown",
   "metadata": {},
   "source": [
    "### Special considerations\n",
    "\n",
    "(_State if there are any special considerations for this experiment_)\n"
   ]
  },
  {
   "cell_type": "markdown",
   "metadata": {
    "toc-hr-collapsed": true,
    "toc-nb-collapsed": true
   },
   "source": [
    "## 4. Log\n",
    "\n",
    "(_Here you should fill inn what you have done during your analysis_)\n"
   ]
  },
  {
   "cell_type": "markdown",
   "metadata": {
    "toc-hr-collapsed": true,
    "toc-nb-collapsed": true
   },
   "source": [
    "## 5. Summary\n",
    "\n",
    "It is always helpful to formulate what you learned from your experiment. It is very unlikely that I am wrong here. So, please, don't skip filling in this part.\n"
   ]
  },
  {
   "cell_type": "markdown",
   "metadata": {},
   "source": [
    "(_What did you discover?_)\n",
    "\n",
    "(_What should you do further?_)\n"
   ]
  },
  {
   "cell_type": "markdown",
   "metadata": {},
   "source": [
    "## Appendix A - Tips and tricks\n"
   ]
  },
  {
   "cell_type": "markdown",
   "metadata": {},
   "source": [
    "### Tip: Alternative methodology for creating batch and loading data first time\n",
    "\n",
    "If you want more control, you can perform each step seperately. Instead\n",
    "of using the `batch.load` method, use:\n",
    "\n",
    "```python\n",
    "\n",
    "# Parameters for the batch\n",
    "project = \"{{cookiecutter.project_name}}\"\n",
    "name = \"{{cookiecutter.session_id}}\"\n",
    "batch_col = \"b01\"  # edit this if you are not using the standard batch column\n",
    "\n",
    "# Create the batch object\n",
    "b = batch.init(name, project, batch_col=batch_col)\n",
    "\n",
    "## Setting some prms if default values are not OK for you\n",
    "b.experiment.export_raw = False\n",
    "b.experiment.export_cycles = False\n",
    "b.experiment.export_ica = False\n",
    "# b.experiment.force_cellpy = True  # force to select the cellpy-files\n",
    "# b.experiment.force_raw = True  # force to select the raw files\n",
    "# b.experiment.all_in_memory = True  # store all data in memory, defaults to False\n",
    "# b.save_cellpy = False  # prevent saving the generated cellpy-files\n",
    "# b.last_cycle = 1000  # only load max 1000 cycles\n",
    "\n",
    "# load info from your db and write the journal pages\n",
    "b.create_journal()\n",
    "b.duplicate_journal()\n",
    "\n",
    "# Create the apropriate folders\n",
    "b.paginate()\n",
    "```\n"
   ]
  },
  {
   "cell_type": "markdown",
   "metadata": {},
   "source": [
    "### Tip: Alternative methodology for creating batch and loading data from journal file\n",
    "\n",
    "If you want more control, you can perform each step seperately. Instead\n",
    "of using the `batch.load` method, use:\n",
    "\n",
    "```python\n",
    "\n",
    "cellpy_batch_file = \"cellpy_batch_{{cookiecutter.session_id}}.json\"\n",
    "b = batch.from_journal(cellpy_batch_file)\n",
    "b.link()\n",
    "# or b.update() if you would like to get new data from the tester.\n",
    "\n",
    "```\n"
   ]
  },
  {
   "cell_type": "markdown",
   "metadata": {},
   "source": [
    "### Trick: Use magic to automatically reload modules\n",
    "\n",
    "This allows you to modify modules (and scripts) in another editor and see the changes within Jupyter without shutting down the kernel.\n"
   ]
  },
  {
   "cell_type": "markdown",
   "metadata": {},
   "source": [
    "```python\n",
    "# in the first notebook cell\n",
    "%load_ext autoreload\n",
    "%autoreload 2\n",
    "```\n"
   ]
  },
  {
   "cell_type": "markdown",
   "metadata": {},
   "source": [
    "### Example: Find files if automatic search fails\n"
   ]
  },
  {
   "cell_type": "markdown",
   "metadata": {},
   "source": [
    "```python\n",
    "def add_files_to_pages(p):\n",
    "    raw_folder = pathlib.Path(prms.Paths.rawdatadir)\n",
    "    rf = []\n",
    "    for f in p.index:\n",
    "        print(f, end=\": \")\n",
    "        new_rf = list(raw_folder.glob(f\"{f}*.res\"))\n",
    "        print(new_rf)\n",
    "        rf.append(new_rf)\n",
    "    p.raw_file_names = rf\n",
    "    return p\n",
    "\n",
    "b.pages = add_files_to_pages(b.pages)\n",
    "```\n"
   ]
  },
  {
   "cell_type": "markdown",
   "metadata": {},
   "source": [
    "### Example: Select first cycle from all cells and save them as a csv-file with headers\n"
   ]
  },
  {
   "cell_type": "markdown",
   "metadata": {},
   "source": [
    "```python\n",
    "import pathlib\n",
    "import csv\n",
    "from itertools import zip_longest\n",
    "\n",
    "# Creating \"csv-save-able\" structure\n",
    "header1 = []\n",
    "header2 = []\n",
    "out = []\n",
    "cycle = 1\n",
    "\n",
    "for label in cell_labels:\n",
    "    print(label, end=\"\")\n",
    "    try:\n",
    "        c = b.experiment.data[label]\n",
    "        sss = c.get_cap(cycle=cycle, interpolated=True, dx=0.01)\n",
    "        cap = sss.capacity\n",
    "        vlt = sss.voltage\n",
    "        out.append(cap)\n",
    "        out.append(vlt)\n",
    "        header1.append(label)\n",
    "        header1.append(label)\n",
    "        header2.append(\"capacity\")\n",
    "        header2.append(\"voltage\")\n",
    "        print(\" - OK\")\n",
    "    except:\n",
    "        print(\" - could not process\")\n",
    "\n",
    "# Saving to csv (list of lists)\n",
    "filename = \"data/processed/first_voltage_curve_for_all_cells.csv\"\n",
    "\n",
    "with open(filename,\"w+\") as f:\n",
    "    writer = csv.writer(f, delimiter=';')\n",
    "    writer.writerow(header1)\n",
    "    writer.writerow(header2)\n",
    "    for values in zip_longest(*out):\n",
    "        writer.writerow(values)\n",
    "\n",
    "```\n"
   ]
  },
  {
   "cell_type": "markdown",
   "metadata": {},
   "source": [
    "### Example: Film-plot of the evolution of dQ/dV peaks\n"
   ]
  },
  {
   "cell_type": "markdown",
   "metadata": {},
   "source": [
    "```python\n",
    "import holoviews as hv\n",
    "\n",
    "import cellpy\n",
    "from cellpy.utils import ica\n",
    "\n",
    "c = cellpy.get(\"a/cellpy/file.h5\")\n",
    "\n",
    "\n",
    "first_cycle = 2\n",
    "last_cycle = 30\n",
    "\n",
    "cycle = list(range(first_cycle,last_cycle+1))\n",
    "ica_c, ica_dc = ica.dqdv_frames(c,cycle=cycle, voltage_resolution=0.005, normalizing_factor=1, split=True, tidy=False)\n",
    "\n",
    "voltages_c = ica_c.voltage.values.ravel()\n",
    "dqs_c = ica_c.drop(\"voltage\", axis=1)\n",
    "cycles_c = dqs_c.columns.get_level_values(0).values.ravel().astype('int32')\n",
    "dqs_c = dqs_c.values.T\n",
    "\n",
    "voltages_dc = ica_dc.voltage.values.ravel()\n",
    "dqs_dc = ica_dc.drop(\"voltage\", axis=1)\n",
    "cycles_dc = dqs_dc.columns.get_level_values(0).values.ravel().astype('int32')\n",
    "dqs_dc = -dqs_dc.values.T\n",
    "\n",
    "options = {\n",
    "    \"xlabel\": \"voltage\",\n",
    "    \"ylabel\": \"cycle number\",\n",
    "    \"xlim\": (0.2, 0.65),\n",
    "}\n",
    "ica_im_c = hv.Image((voltages_c, cycles_c, dqs_c)).opts(title=f\"charge\", **options)\n",
    "ica_im_dc = hv.Image((voltages_dc, cycles_dc, dqs_dc)).opts(title=f\"discharge\", **options)\n",
    "\n",
    "ica_im_c + ica_im_dc\n",
    "\n",
    "```\n"
   ]
  },
  {
   "cell_type": "markdown",
   "metadata": {},
   "source": [
    "### Example: use `ipydatagrid` to edit `b.pages` (the journal pages)\n"
   ]
  },
  {
   "cell_type": "markdown",
   "metadata": {},
   "source": [
    "#### Install if missing:\n",
    "\n",
    "```python\n",
    "\n",
    "!pip install ipydatagrid\n",
    "\n",
    "```\n",
    "\n",
    "(you proably have to restart your jupyter session for it to load the js)\n"
   ]
  },
  {
   "cell_type": "markdown",
   "metadata": {},
   "source": [
    "#### Import and create the interactive datagrid\n",
    "\n",
    "```python\n",
    "from ipydatagrid import DataGrid\n",
    "\n",
    "dg = DataGrid(b.pages, editable=True)\n",
    "```\n"
   ]
  },
  {
   "cell_type": "markdown",
   "metadata": {},
   "source": [
    "#### Show it and edit it\n",
    "\n",
    "```python\n",
    "dg\n",
    "```\n"
   ]
  },
  {
   "cell_type": "markdown",
   "metadata": {},
   "source": [
    "#### Update the journal pages\n",
    "\n",
    "```python\n",
    "b.pages = dg.data\n",
    "\n",
    "## Don't forget to save it if you want to keep your changes:\n",
    "# b.save_journal()\n",
    "# b.duplicate_journal()\n",
    "\n",
    "```\n"
   ]
  },
  {
   "cell_type": "markdown",
   "metadata": {},
   "source": [
    "### Example: collect data using `collectors`, but plot with another tool (`seaborn`)\n",
    "\n",
    "```python\n",
    "\n",
    "# Setting up the collector without running it (autorun=False):\n",
    "cap_summaries = collectors.BatchSummaryCollector(\n",
    "    b,\n",
    "    autorun=False,\n",
    "    normalize_cycles=True,\n",
    "    fig_title=\"Areal Capacity Plots\",\n",
    "    data_collector_arguments={\n",
    "        \"columns\": [\n",
    "            \"charge_capacity_areal\",\n",
    "            \"discharge_capacity_areal\"\n",
    "        ],\n",
    "    }\n",
    ")\n",
    "\n",
    "# Collecting data without plotting:\n",
    "cap_summaries.update(update_data=True, update_plot=False)\n",
    "\n",
    "\n",
    "df = cap_summaries.data.copy()\n",
    "\n",
    "# Best to convert to long format when using seaborn\n",
    "#  trick to decide on id and value variables:\n",
    "cols = df.columns.to_list()\n",
    "possible_id_vars = [\"cycle\", \"equivalent_cycle\", \"cell\", \"group\", \"sub_group\"]\n",
    "id_vars = [v for v in possible_id_vars if v in cols]\n",
    "value_vars = [v for v in cols if v not in id_vars]\n",
    "# doing the melting from (rather) wide to long format:\n",
    "df = df.melt(value_vars=value_vars, id_vars=id_vars, var_name=\"variable\", value_name=\"value\")\n",
    "\n",
    "# Plotting\n",
    "fig = sns.relplot(data=df, x=\"cycle\", y=\"value\", row=\"variable\", hue=\"group\", style=\"sub_group\", palette=\"tab10\", height=3, aspect=2)\n",
    "```\n"
   ]
  },
  {
   "cell_type": "markdown",
   "metadata": {},
   "source": []
  }
 ],
 "metadata": {
  "kernelspec": {
   "display_name": "cellpy",
   "language": "python",
   "name": "cellpy"
  },
  "language_info": {
   "codemirror_mode": {
    "name": "ipython",
    "version": 3
   },
   "file_extension": ".py",
   "mimetype": "text/x-python",
   "name": "python",
   "nbconvert_exporter": "python",
   "pygments_lexer": "ipython3",
   "version": "3.10.6"
  }
 },
 "nbformat": 4,
 "nbformat_minor": 4
}
