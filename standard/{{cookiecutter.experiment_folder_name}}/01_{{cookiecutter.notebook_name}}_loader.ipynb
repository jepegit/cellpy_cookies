{
 "cells": [
  {
   "cell_type": "markdown",
   "metadata": {},
   "source": [
    "# Processing cellpy batch - preparing the data\n"
   ]
  },
  {
   "cell_type": "markdown",
   "metadata": {},
   "source": [
    "### `{{cookiecutter.project_name}}::{{cookiecutter.session_id}}`\n"
   ]
  },
  {
   "cell_type": "markdown",
   "metadata": {
    "toc-hr-collapsed": true,
    "toc-nb-collapsed": true
   },
   "source": [
    "**Experimental-id:** `{{cookiecutter.notebook_name}}`  \n",
    "**Short-name:** `{{cookiecutter.session_id}}`  \n",
    "**Project:** `{{cookiecutter.project_name}}`  \n",
    "**By:** `{{cookiecutter.author_name}}`  \n",
    "**Date:** `{{cookiecutter.date}}`\n"
   ]
  },
  {
   "cell_type": "markdown",
   "metadata": {},
   "source": [
    "## 1. Setting up everything\n"
   ]
  },
  {
   "cell_type": "markdown",
   "metadata": {},
   "source": [
    "Note! This template was made for `cellpy` version >= 1.0.1\n"
   ]
  },
  {
   "cell_type": "markdown",
   "metadata": {},
   "source": [
    "### Imports\n"
   ]
  },
  {
   "cell_type": "code",
   "execution_count": null,
   "metadata": {},
   "outputs": [],
   "source": [
    "import sys\n",
    "import cellpy\n",
    "\n",
    "import numpy as np\n",
    "import pandas as pd\n",
    "import matplotlib.pyplot as plt\n",
    "\n",
    "from cellpy import prms\n",
    "from cellpy import prmreader\n",
    "from cellpy.utils import batch, plotutils, helpers\n",
    "\n",
    "%matplotlib inline\n",
    "print(f\"cellpy version: {cellpy.__version__}\")"
   ]
  },
  {
   "cell_type": "markdown",
   "metadata": {},
   "source": [
    "### Creating pages and initialise the cellpy batch object\n",
    "\n",
    "If you need to create Journal Pages, please provide appropriate names for the project and the experiment to allow `cellpy` to build the pages.\n"
   ]
  },
  {
   "cell_type": "code",
   "execution_count": null,
   "metadata": {},
   "outputs": [],
   "source": [
    "# Create the batch object\n",
    "b = batch.load(\n",
    "    project=\"{{cookiecutter.project_name}}\",\n",
    "    name=\"{{cookiecutter.session_id}}\",\n",
    "    batch_col=\"b01\",  # edit this if you are not using the standard batch column\n",
    "    allow_from_journal=True,  # allow to load from journal\n",
    "    force_cellpy=False,  # set to True if you would like to force loading cellpy files\n",
    "    export_ica=False,  # set to True if you would like to force loading cellpy files\n",
    "    export_cycles=False,  # set to True if you would like to force loading cellpy files\n",
    "    export_raw=False,  # set to True if you would like to force loading cellpy files\n",
    "    force_raw_file=False,  # set to True if you would like to force loading raw files\n",
    "    force_reload=False,  # set to True if you would like to force loading files even if journal exists\n",
    ")"
   ]
  },
  {
   "cell_type": "markdown",
   "metadata": {},
   "source": [
    "#### Alternative method\n",
    "\n",
    "Sometimes things fail. To help in finding out why, it is recommended to use the ``batch.init`` method instead of the ``batch.load`` method."
   ]
  },
  {
   "cell_type": "code",
   "execution_count": null,
   "metadata": {},
   "outputs": [],
   "source": [
    "# # Parameters for the batch\n",
    "# project = \"{{cookiecutter.project_name}}\"\n",
    "# name = \"{{cookiecutter.session_id}}\"\n",
    "# batch_col = \"b01\"  # edit this if you are not using the standard batch column\n",
    "\n",
    "# # Create the batch object\n",
    "# b = batch.init(name, project, batch_col=batch_col)\n",
    "\n",
    "# # load info from your db and write the journal pages\n",
    "# b.create_journal()\n",
    "\n",
    "# # Create the apropriate folders\n",
    "# b.paginate()\n",
    "\n",
    "# # load the data (and save .csv-files if you have set export_(raw/cycles/ica) = True)\n",
    "# # (this might take some time)\n",
    "# b.update()"
   ]
  },
  {
   "cell_type": "markdown",
   "metadata": {},
   "source": [
    "## 2. Examine your data\n"
   ]
  },
  {
   "cell_type": "code",
   "execution_count": null,
   "metadata": {},
   "outputs": [],
   "source": [
    "# Show the journal pages\n",
    "b.pages"
   ]
  },
  {
   "cell_type": "markdown",
   "metadata": {},
   "source": [
    "## 3. Initial investigation of the batch experiment\n"
   ]
  },
  {
   "cell_type": "markdown",
   "metadata": {},
   "source": [
    "### 3.1 Summaries\n"
   ]
  },
  {
   "cell_type": "code",
   "execution_count": null,
   "metadata": {},
   "outputs": [],
   "source": [
    "# Plot the charge capacity and the C.E. (and resistance and rate) vs. cycle number (standard plot)\n",
    "b.plot(rate=True, ir=True)"
   ]
  },
  {
   "cell_type": "markdown",
   "metadata": {},
   "source": [
    "### 3.2 Remove bad cells\n"
   ]
  },
  {
   "cell_type": "code",
   "execution_count": null,
   "metadata": {},
   "outputs": [],
   "source": [
    "# Get a report summarising the data\n",
    "b.report()"
   ]
  },
  {
   "cell_type": "markdown",
   "metadata": {},
   "source": [
    "#### The cells I want to remove (and why):\n"
   ]
  },
  {
   "cell_type": "markdown",
   "metadata": {},
   "source": [
    "Make a note of the cells you remove, e.g. like this:\n",
    "\n",
    "- cell x: missing too many data-points\n",
    "- cell y: stopped after 2 cycles\n",
    "\n",
    "Suggest that you remove the cells you do not want in the journal pages.\n"
   ]
  },
  {
   "cell_type": "markdown",
   "metadata": {},
   "source": [
    "#### Modify the pages\n"
   ]
  },
  {
   "cell_type": "code",
   "execution_count": null,
   "metadata": {},
   "outputs": [],
   "source": [
    "# # make a copy of pages (in case you do something stupid)\n",
    "# npages = b.pages.copy()"
   ]
  },
  {
   "cell_type": "code",
   "execution_count": null,
   "metadata": {},
   "outputs": [],
   "source": [
    "# npages = npages.drop(\"<filename-index>\")"
   ]
  },
  {
   "cell_type": "code",
   "execution_count": null,
   "metadata": {},
   "outputs": [],
   "source": [
    "# # set the updated dataframe as your new pages\n",
    "# b.pages = npages\n",
    "# # if you have made any changes to your journal pages, you should save it again.\n",
    "# b.save_journal()\n",
    "# b.duplicate_journal()"
   ]
  },
  {
   "cell_type": "markdown",
   "metadata": {},
   "source": [
    "#### Clean up summaries\n",
    "\n",
    "You might want to add some code to edit the summaries before\n",
    "processing them. You usuall dont know what you will have to edit before\n",
    "you have done (at least parts of) the analysis. However, I advice that you always clean up your notebooks and put your pre-processing routines here so that it is easy to re-run the notebook (and understand it) later.\n",
    "\n",
    "A good way of doing this is to create a yanked batch object (using `helpers.yank_outliers` or `helpers.yank_after`)."
   ]
  },
  {
   "cell_type": "code",
   "execution_count": null,
   "metadata": {},
   "outputs": [],
   "source": [
    "# # example of dictionary used for input to yanking (the lists contains cycle-numbers that should be removed)\n",
    "# bad_cycle_numbers = {\n",
    "#     'cell_label_01':[4, 337, 338],\n",
    "#     'cell_label_01': [4, 336, 533],\n",
    "#     'cell_label_01': [4, 500],\n",
    "#     'cell_label_01':[4],\n",
    "#  }"
   ]
  },
  {
   "cell_type": "code",
   "execution_count": null,
   "metadata": {},
   "outputs": [],
   "source": [
    "# # example on how to create a \"yanked\" batch object (note that the ``yank_outliers`` method has several default values):\n",
    "\n",
    "# removed = helpers.yank_outliers(b,\n",
    "#     zscore_limit=None,\n",
    "#     low=1000.0,\n",
    "#     high=6000.0,\n",
    "#     filter_cols=None,\n",
    "#     freeze_indexes=None,\n",
    "#     remove_indexes=bad_cycle_numbers)\n",
    "\n",
    "# # you can also save the info about removed cycles to your journal\n",
    "# b.journal.session[\"bad_cycles\"] = removed\n",
    "# b.save_journal()"
   ]
  },
  {
   "cell_type": "markdown",
   "metadata": {},
   "source": [
    "#### Recalculate and link\n",
    "\n",
    "If you have changed parameters that `cellpy` uses internally in its calculations, such as nominal capacity or mass, you will have to do a recalculation.\n",
    "If you have removed cells, you will need to do a new linking.\n"
   ]
  },
  {
   "cell_type": "code",
   "execution_count": null,
   "metadata": {},
   "outputs": [],
   "source": [
    "# b.recalc()\n",
    "# b.link()"
   ]
  },
  {
   "cell_type": "markdown",
   "metadata": {},
   "source": [
    "### 3.3 Raw data\n",
    "\n",
    "You should always have a look at the raw-data to see if everything looks OK. I suggest using `raw_plot` to get a quick overview of the data. If you need more information you can use the `cycle_info_plot` function (remark! it is rather slow, so if you are going to plot a data-set with many cycles you should consider limiting it to render only specific cycles).\n"
   ]
  },
  {
   "cell_type": "markdown",
   "metadata": {},
   "source": [
    "#### Quick look\n"
   ]
  },
  {
   "cell_type": "code",
   "execution_count": null,
   "metadata": {},
   "outputs": [],
   "source": [
    "# label = b.cell_names[0]\n",
    "# c = b.experiment.data[label]\n",
    "# plotutils.raw_plot(c)"
   ]
  },
  {
   "cell_type": "markdown",
   "metadata": {},
   "source": [
    "#### Cycle information\n",
    "\n",
    "Gives additional information (rate, steps, etc).\n"
   ]
  },
  {
   "cell_type": "code",
   "execution_count": null,
   "metadata": {},
   "outputs": [],
   "source": [
    "# label = b.cell_names[0]\n",
    "# c = b.cells[label]\n",
    "# plotutils.cycle_info_plot(c, info_level=1, show_it=True)"
   ]
  },
  {
   "cell_type": "markdown",
   "metadata": {},
   "source": [
    "## 4. Packaging data\n",
    "\n",
    "The notebooks are set up such that they read the journal from the current folder. This is not the default location of the journal files. To be able to load the journal easily, you should duplicate it (run the cell below).\n",
    "\n",
    "If you also would like to share the experiment with others, you should run the `duplicate_cellpy_files` method so that all the cellpy-files will be copied to the `data/interim folder`.\n"
   ]
  },
  {
   "cell_type": "code",
   "execution_count": null,
   "metadata": {},
   "outputs": [],
   "source": [
    "## If you want to share the experiment notebooks, run this cell to also copy cellpy files to the data folder instead:\n",
    "# b.duplicate_cellpy_files(location=\"standard\")"
   ]
  },
  {
   "cell_type": "markdown",
   "metadata": {},
   "source": [
    "## Links\n"
   ]
  },
  {
   "cell_type": "markdown",
   "metadata": {},
   "source": [
    "### Notebooks\n",
    "\n",
    "- notes and information [link](00_{{cookiecutter.notebook_name}}_notes.ipynb)\n",
    "- processing raw data [link](01_{{cookiecutter.notebook_name}}_loader.ipynb)\n",
    "- life [link](02_{{cookiecutter.notebook_name}}_life.ipynb)\n",
    "- cycles [link](03_{{cookiecutter.notebook_name}}_cycles.ipynb)\n",
    "- ica [link](04_{{cookiecutter.notebook_name}}_ica.ipynb)\n",
    "- plots [link](05_{{cookiecutter.notebook_name}}_plots.ipynb)\n"
   ]
  }
 ],
 "metadata": {
  "kernelspec": {
   "display_name": "cellpy",
   "language": "python",
   "name": "cellpy"
  },
  "language_info": {
   "codemirror_mode": {
    "name": "ipython",
    "version": 3
   },
   "file_extension": ".py",
   "mimetype": "text/x-python",
   "name": "python",
   "nbconvert_exporter": "python",
   "pygments_lexer": "ipython3",
   "version": "3.10.6"
  }
 },
 "nbformat": 4,
 "nbformat_minor": 4
}
