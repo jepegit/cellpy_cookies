{
 "cells": [
  {
   "cell_type": "raw",
   "metadata": {},
   "source": [
    "---\n",
    "title: \"{{cookiecutter.project_name}}\"\n",
    "author: \"{{cookiecutter.author_name}}\"\n",
    "date: \"{{cookiecutter.date}}\"\n",
    "toc: true\n",
    "number-sections: true\n",
    "format:\n",
    "  html:\n",
    "    code-fold: false\n",
    "    code-tools: true\n",
    "execute:\n",
    "  echo: false\n",
    "jupyter: cellpy\n",
    "---"
   ]
  },
  {
   "cell_type": "markdown",
   "metadata": {},
   "source": [
    "# Processing cellpy\n"
   ]
  },
  {
   "cell_type": "markdown",
   "metadata": {},
   "source": [
    "### `{{cookiecutter.project_name}}::{{cookiecutter.session_id}}`\n"
   ]
  },
  {
   "cell_type": "markdown",
   "metadata": {
    "toc-hr-collapsed": true,
    "toc-nb-collapsed": true
   },
   "source": [
    "**Experimental-id:** `{{cookiecutter.notebook_name}}`  \n",
    "**Short-name:** `{{cookiecutter.session_id}}`  \n",
    "**Project:** `{{cookiecutter.project_name}}`  \n",
    "**By:** `{{cookiecutter.author_name}}`  \n",
    "**Date:** `{{cookiecutter.date}}`\n"
   ]
  },
  {
   "cell_type": "code",
   "execution_count": null,
   "metadata": {},
   "outputs": [],
   "source": [
    "# Note! This template was made for `cellpy` version >= 1.0.1"
   ]
  },
  {
   "cell_type": "code",
   "execution_count": null,
   "metadata": {},
   "outputs": [],
   "source": [
    "# Imports\n",
    "\n",
    "from pathlib import Path\n",
    "import sys\n",
    "import warnings\n",
    "\n",
    "warnings.filterwarnings(\"ignore\")\n",
    "\n",
    "import numpy as np\n",
    "import pandas as pd\n",
    "import matplotlib.pyplot as plt\n",
    "import matplotlib\n",
    "\n",
    "import cellpy\n",
    "from cellpy import prms\n",
    "from cellpy import prmreader\n",
    "from cellpy.utils import plotutils\n",
    "\n",
    "%matplotlib inline\n",
    "print(f\"cellpy version: {cellpy.__version__}\")"
   ]
  },
  {
   "cell_type": "code",
   "execution_count": null,
   "metadata": {},
   "outputs": [],
   "source": [
    "# loading\n",
    "filename = \"xxx.h5\"\n",
    "datadir = Path(\"../../../cellpyfiles\")\n",
    "filepath = datadir / filename\n",
    "c = cellpy.get(filepath)\n",
    "s = c.data.summary.reset_index()"
   ]
  },
  {
   "cell_type": "markdown",
   "metadata": {},
   "source": [
    "# Introduction\n",
    "\n",
    "The cell belongs to the {{cookiecutter.project_name}}-{{cookiecutter.session_id}} session and was processed by {{cookiecutter.author_name}}.\n"
   ]
  },
  {
   "cell_type": "markdown",
   "metadata": {},
   "source": [
    "## Summary statistics\n",
    "\n",
    "As shown in @fig-summary below, it is clear that xxx.\n"
   ]
  },
  {
   "cell_type": "code",
   "execution_count": null,
   "metadata": {},
   "outputs": [],
   "source": [
    "# | label: fig-summary\n",
    "# | fig-cap: \"{{cookiecutter.project_name}}-{{cookiecutter.session_id}}\"\n",
    "\n",
    "c_min = s.cycle_index.min()\n",
    "c_max = s.cycle_index.max()\n",
    "\n",
    "fig, (ax1, ax2, ax3) = plt.subplots(\n",
    "    nrows=3, gridspec_kw={\"height_ratios\": [1, 3, 1], \"hspace\": 0.0}, sharex=True\n",
    ")\n",
    "\n",
    "lines = []\n",
    "ax1.plot(s.cycle_index, s.coulombic_efficiency, \"-\", label=\"coul\")\n",
    "lines.extend(\n",
    "    ax2.plot(s.cycle_index, s.charge_capacity_gravimetric, \"-o\", label=\"charge\")\n",
    ")\n",
    "lines.extend(\n",
    "    ax2.plot(s.cycle_index, s.discharge_capacity_gravimetric, \"-o\", label=\"discharge\")\n",
    ")\n",
    "ax3.plot(s.cycle_index, s.ir_charge, \"-o\")\n",
    "ax3.plot(s.cycle_index, s.ir_discharge, \"-o\")\n",
    "\n",
    "ax1.set_ylabel(\"Coulombic\\nefficiency [%]\")\n",
    "ax2.set_ylabel(\"Capacity [mA/h]\")\n",
    "ax3.set_ylabel(\"Internal\\nresistance [Ohm]\")\n",
    "ax3.set_xlabel(\"Cycle number\")\n",
    "\n",
    "ax3.set_xlim(c_min, c_max)\n",
    "fig.legend(handles=lines, ncols=1, frameon=False, bbox_to_anchor=(1.2, 0.6))\n",
    "fig.suptitle(\"Summary\")\n",
    "plt.tight_layout()"
   ]
  },
  {
   "cell_type": "markdown",
   "metadata": {},
   "source": [
    "## Cycles\n",
    "\n",
    "As shown in @fig-cycle below, it is obvious that xxx.\n"
   ]
  },
  {
   "cell_type": "code",
   "execution_count": null,
   "metadata": {},
   "outputs": [],
   "source": [
    "# | label: fig-cycle\n",
    "# | fig-cap: \"{{cookiecutter.project_name}}-{{cookiecutter.session_id}}\"\n",
    "\n",
    "selected_cycles = None\n",
    "cmap_name = \"viridis\"\n",
    "label_interval = 2\n",
    "\n",
    "cycles = c.get_cap(\n",
    "    cycles=selected_cycles,\n",
    "    method=\"forth-and-forth\",\n",
    "    label_cycle_number=True,\n",
    "    categorical_column=True,\n",
    "    insert_nan=True,\n",
    ")\n",
    "g = cycles.groupby(\"cycle\")\n",
    "\n",
    "c_min = cycles.cycle.min()\n",
    "c_max = cycles.cycle.max()\n",
    "c_numbers = cycles.cycle.unique()\n",
    "c_len = len(c_numbers)\n",
    "\n",
    "if c_len > 10:\n",
    "    use_colorbar = True\n",
    "else:\n",
    "    use_colorbar = False\n",
    "\n",
    "cmap = plt.get_cmap(cmap_name, c_len)\n",
    "fig, ax = plt.subplots(figsize=(8, 4))\n",
    "\n",
    "c_interval = []\n",
    "ticks = []\n",
    "for i, (label, gg) in enumerate(g):\n",
    "    color = cmap(i)\n",
    "    ax.plot(gg.capacity, gg.voltage, label=f\"{label}\", c=color)\n",
    "\n",
    "    if use_colorbar:\n",
    "        c_interval.append(label - 0.5)\n",
    "        if not label % label_interval:\n",
    "            ticks.append(label)\n",
    "\n",
    "if use_colorbar:\n",
    "    c_interval.append(c_max + 0.5)\n",
    "    boundary_norm = matplotlib.colors.BoundaryNorm(c_interval, cmap.N)\n",
    "    sm = plt.cm.ScalarMappable(norm=boundary_norm, cmap=cmap)\n",
    "    fig.colorbar(sm, ax=ax, ticks=ticks, label=\"Cycle number\")\n",
    "\n",
    "else:\n",
    "    plt.legend(title=\"Cycle number\")\n",
    "\n",
    "ax.set_xlabel(\"Capacity\")\n",
    "ax.set_ylabel(\"Voltage\")"
   ]
  },
  {
   "cell_type": "markdown",
   "metadata": {},
   "source": [
    "## Conclussions\n",
    "\n",
    "This is a very nice cell. And everybody is happy.\n"
   ]
  },
  {
   "cell_type": "code",
   "execution_count": null,
   "metadata": {},
   "outputs": [],
   "source": [
    "# To make e.g. docx file - issue `quarto render 01_again.ipynb --to docx`"
   ]
  }
 ],
 "metadata": {
  "kernelspec": {
   "display_name": "cellpy",
   "language": "python",
   "name": "cellpy"
  },
  "language_info": {
   "codemirror_mode": {
    "name": "ipython",
    "version": 3
   },
   "file_extension": ".py",
   "mimetype": "text/x-python",
   "name": "python",
   "nbconvert_exporter": "python",
   "pygments_lexer": "ipython3",
   "version": "3.11.6"
  }
 },
 "nbformat": 4,
 "nbformat_minor": 4
}
